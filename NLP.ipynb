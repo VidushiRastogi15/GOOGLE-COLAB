{
  "cells": [
    {
      "cell_type": "code",
      "execution_count": null,
      "metadata": {
        "colab": {
          "base_uri": "https://localhost:8080/"
        },
        "id": "zsHw9fiiQY1T",
        "outputId": "d24da71c-bfee-4a1a-9587-15e1fb54f2cf"
      },
      "outputs": [
        {
          "output_type": "stream",
          "name": "stdout",
          "text": [
            "Looking in indexes: https://pypi.org/simple, https://us-python.pkg.dev/colab-wheels/public/simple/\n",
            "Requirement already satisfied: nltk in /usr/local/lib/python3.7/dist-packages (3.7)\n",
            "Requirement already satisfied: regex>=2021.8.3 in /usr/local/lib/python3.7/dist-packages (from nltk) (2022.6.2)\n",
            "Requirement already satisfied: tqdm in /usr/local/lib/python3.7/dist-packages (from nltk) (4.64.1)\n",
            "Requirement already satisfied: joblib in /usr/local/lib/python3.7/dist-packages (from nltk) (1.2.0)\n",
            "Requirement already satisfied: click in /usr/local/lib/python3.7/dist-packages (from nltk) (7.1.2)\n"
          ]
        },
        {
          "output_type": "stream",
          "name": "stderr",
          "text": [
            "[nltk_data] Downloading collection 'all'\n",
            "[nltk_data]    | \n",
            "[nltk_data]    | Downloading package abc to /root/nltk_data...\n",
            "[nltk_data]    |   Unzipping corpora/abc.zip.\n",
            "[nltk_data]    | Downloading package alpino to /root/nltk_data...\n",
            "[nltk_data]    |   Unzipping corpora/alpino.zip.\n",
            "[nltk_data]    | Downloading package averaged_perceptron_tagger to\n",
            "[nltk_data]    |     /root/nltk_data...\n",
            "[nltk_data]    |   Unzipping taggers/averaged_perceptron_tagger.zip.\n",
            "[nltk_data]    | Downloading package averaged_perceptron_tagger_ru to\n",
            "[nltk_data]    |     /root/nltk_data...\n",
            "[nltk_data]    |   Unzipping\n",
            "[nltk_data]    |       taggers/averaged_perceptron_tagger_ru.zip.\n",
            "[nltk_data]    | Downloading package basque_grammars to\n",
            "[nltk_data]    |     /root/nltk_data...\n",
            "[nltk_data]    |   Unzipping grammars/basque_grammars.zip.\n",
            "[nltk_data]    | Downloading package biocreative_ppi to\n",
            "[nltk_data]    |     /root/nltk_data...\n",
            "[nltk_data]    |   Unzipping corpora/biocreative_ppi.zip.\n",
            "[nltk_data]    | Downloading package bllip_wsj_no_aux to\n",
            "[nltk_data]    |     /root/nltk_data...\n",
            "[nltk_data]    |   Unzipping models/bllip_wsj_no_aux.zip.\n",
            "[nltk_data]    | Downloading package book_grammars to\n",
            "[nltk_data]    |     /root/nltk_data...\n",
            "[nltk_data]    |   Unzipping grammars/book_grammars.zip.\n",
            "[nltk_data]    | Downloading package brown to /root/nltk_data...\n",
            "[nltk_data]    |   Unzipping corpora/brown.zip.\n",
            "[nltk_data]    | Downloading package brown_tei to /root/nltk_data...\n",
            "[nltk_data]    |   Unzipping corpora/brown_tei.zip.\n",
            "[nltk_data]    | Downloading package cess_cat to /root/nltk_data...\n",
            "[nltk_data]    |   Unzipping corpora/cess_cat.zip.\n",
            "[nltk_data]    | Downloading package cess_esp to /root/nltk_data...\n",
            "[nltk_data]    |   Unzipping corpora/cess_esp.zip.\n",
            "[nltk_data]    | Downloading package chat80 to /root/nltk_data...\n",
            "[nltk_data]    |   Unzipping corpora/chat80.zip.\n",
            "[nltk_data]    | Downloading package city_database to\n",
            "[nltk_data]    |     /root/nltk_data...\n",
            "[nltk_data]    |   Unzipping corpora/city_database.zip.\n",
            "[nltk_data]    | Downloading package cmudict to /root/nltk_data...\n",
            "[nltk_data]    |   Unzipping corpora/cmudict.zip.\n",
            "[nltk_data]    | Downloading package comparative_sentences to\n",
            "[nltk_data]    |     /root/nltk_data...\n",
            "[nltk_data]    |   Unzipping corpora/comparative_sentences.zip.\n",
            "[nltk_data]    | Downloading package comtrans to /root/nltk_data...\n",
            "[nltk_data]    | Downloading package conll2000 to /root/nltk_data...\n",
            "[nltk_data]    |   Unzipping corpora/conll2000.zip.\n",
            "[nltk_data]    | Downloading package conll2002 to /root/nltk_data...\n",
            "[nltk_data]    |   Unzipping corpora/conll2002.zip.\n",
            "[nltk_data]    | Downloading package conll2007 to /root/nltk_data...\n",
            "[nltk_data]    | Downloading package crubadan to /root/nltk_data...\n",
            "[nltk_data]    |   Unzipping corpora/crubadan.zip.\n",
            "[nltk_data]    | Downloading package dependency_treebank to\n",
            "[nltk_data]    |     /root/nltk_data...\n",
            "[nltk_data]    |   Unzipping corpora/dependency_treebank.zip.\n",
            "[nltk_data]    | Downloading package dolch to /root/nltk_data...\n",
            "[nltk_data]    |   Unzipping corpora/dolch.zip.\n",
            "[nltk_data]    | Downloading package europarl_raw to\n",
            "[nltk_data]    |     /root/nltk_data...\n",
            "[nltk_data]    |   Unzipping corpora/europarl_raw.zip.\n",
            "[nltk_data]    | Downloading package extended_omw to\n",
            "[nltk_data]    |     /root/nltk_data...\n",
            "[nltk_data]    | Downloading package floresta to /root/nltk_data...\n",
            "[nltk_data]    |   Unzipping corpora/floresta.zip.\n",
            "[nltk_data]    | Downloading package framenet_v15 to\n",
            "[nltk_data]    |     /root/nltk_data...\n",
            "[nltk_data]    |   Unzipping corpora/framenet_v15.zip.\n",
            "[nltk_data]    | Downloading package framenet_v17 to\n",
            "[nltk_data]    |     /root/nltk_data...\n",
            "[nltk_data]    |   Unzipping corpora/framenet_v17.zip.\n",
            "[nltk_data]    | Downloading package gazetteers to /root/nltk_data...\n",
            "[nltk_data]    |   Unzipping corpora/gazetteers.zip.\n",
            "[nltk_data]    | Downloading package genesis to /root/nltk_data...\n",
            "[nltk_data]    |   Unzipping corpora/genesis.zip.\n",
            "[nltk_data]    | Downloading package gutenberg to /root/nltk_data...\n",
            "[nltk_data]    |   Unzipping corpora/gutenberg.zip.\n",
            "[nltk_data]    | Downloading package ieer to /root/nltk_data...\n",
            "[nltk_data]    |   Unzipping corpora/ieer.zip.\n",
            "[nltk_data]    | Downloading package inaugural to /root/nltk_data...\n",
            "[nltk_data]    |   Unzipping corpora/inaugural.zip.\n",
            "[nltk_data]    | Downloading package indian to /root/nltk_data...\n",
            "[nltk_data]    |   Unzipping corpora/indian.zip.\n",
            "[nltk_data]    | Downloading package jeita to /root/nltk_data...\n",
            "[nltk_data]    | Downloading package kimmo to /root/nltk_data...\n",
            "[nltk_data]    |   Unzipping corpora/kimmo.zip.\n",
            "[nltk_data]    | Downloading package knbc to /root/nltk_data...\n",
            "[nltk_data]    | Downloading package large_grammars to\n",
            "[nltk_data]    |     /root/nltk_data...\n",
            "[nltk_data]    |   Unzipping grammars/large_grammars.zip.\n",
            "[nltk_data]    | Downloading package lin_thesaurus to\n",
            "[nltk_data]    |     /root/nltk_data...\n",
            "[nltk_data]    |   Unzipping corpora/lin_thesaurus.zip.\n",
            "[nltk_data]    | Downloading package mac_morpho to /root/nltk_data...\n",
            "[nltk_data]    |   Unzipping corpora/mac_morpho.zip.\n",
            "[nltk_data]    | Downloading package machado to /root/nltk_data...\n",
            "[nltk_data]    | Downloading package masc_tagged to /root/nltk_data...\n",
            "[nltk_data]    | Downloading package maxent_ne_chunker to\n",
            "[nltk_data]    |     /root/nltk_data...\n",
            "[nltk_data]    |   Unzipping chunkers/maxent_ne_chunker.zip.\n",
            "[nltk_data]    | Downloading package maxent_treebank_pos_tagger to\n",
            "[nltk_data]    |     /root/nltk_data...\n",
            "[nltk_data]    |   Unzipping taggers/maxent_treebank_pos_tagger.zip.\n",
            "[nltk_data]    | Downloading package moses_sample to\n",
            "[nltk_data]    |     /root/nltk_data...\n",
            "[nltk_data]    |   Unzipping models/moses_sample.zip.\n",
            "[nltk_data]    | Downloading package movie_reviews to\n",
            "[nltk_data]    |     /root/nltk_data...\n",
            "[nltk_data]    |   Unzipping corpora/movie_reviews.zip.\n",
            "[nltk_data]    | Downloading package mte_teip5 to /root/nltk_data...\n",
            "[nltk_data]    |   Unzipping corpora/mte_teip5.zip.\n",
            "[nltk_data]    | Downloading package mwa_ppdb to /root/nltk_data...\n",
            "[nltk_data]    |   Unzipping misc/mwa_ppdb.zip.\n",
            "[nltk_data]    | Downloading package names to /root/nltk_data...\n",
            "[nltk_data]    |   Unzipping corpora/names.zip.\n",
            "[nltk_data]    | Downloading package nombank.1.0 to /root/nltk_data...\n",
            "[nltk_data]    | Downloading package nonbreaking_prefixes to\n",
            "[nltk_data]    |     /root/nltk_data...\n",
            "[nltk_data]    |   Unzipping corpora/nonbreaking_prefixes.zip.\n",
            "[nltk_data]    | Downloading package nps_chat to /root/nltk_data...\n",
            "[nltk_data]    |   Unzipping corpora/nps_chat.zip.\n",
            "[nltk_data]    | Downloading package omw to /root/nltk_data...\n",
            "[nltk_data]    | Downloading package omw-1.4 to /root/nltk_data...\n",
            "[nltk_data]    | Downloading package opinion_lexicon to\n",
            "[nltk_data]    |     /root/nltk_data...\n",
            "[nltk_data]    |   Unzipping corpora/opinion_lexicon.zip.\n",
            "[nltk_data]    | Downloading package panlex_swadesh to\n",
            "[nltk_data]    |     /root/nltk_data...\n",
            "[nltk_data]    | Downloading package paradigms to /root/nltk_data...\n",
            "[nltk_data]    |   Unzipping corpora/paradigms.zip.\n",
            "[nltk_data]    | Downloading package pe08 to /root/nltk_data...\n",
            "[nltk_data]    |   Unzipping corpora/pe08.zip.\n",
            "[nltk_data]    | Downloading package perluniprops to\n",
            "[nltk_data]    |     /root/nltk_data...\n",
            "[nltk_data]    |   Unzipping misc/perluniprops.zip.\n",
            "[nltk_data]    | Downloading package pil to /root/nltk_data...\n",
            "[nltk_data]    |   Unzipping corpora/pil.zip.\n",
            "[nltk_data]    | Downloading package pl196x to /root/nltk_data...\n",
            "[nltk_data]    |   Unzipping corpora/pl196x.zip.\n",
            "[nltk_data]    | Downloading package porter_test to /root/nltk_data...\n",
            "[nltk_data]    |   Unzipping stemmers/porter_test.zip.\n",
            "[nltk_data]    | Downloading package ppattach to /root/nltk_data...\n",
            "[nltk_data]    |   Unzipping corpora/ppattach.zip.\n",
            "[nltk_data]    | Downloading package problem_reports to\n",
            "[nltk_data]    |     /root/nltk_data...\n",
            "[nltk_data]    |   Unzipping corpora/problem_reports.zip.\n",
            "[nltk_data]    | Downloading package product_reviews_1 to\n",
            "[nltk_data]    |     /root/nltk_data...\n",
            "[nltk_data]    |   Unzipping corpora/product_reviews_1.zip.\n",
            "[nltk_data]    | Downloading package product_reviews_2 to\n",
            "[nltk_data]    |     /root/nltk_data...\n",
            "[nltk_data]    |   Unzipping corpora/product_reviews_2.zip.\n",
            "[nltk_data]    | Downloading package propbank to /root/nltk_data...\n",
            "[nltk_data]    | Downloading package pros_cons to /root/nltk_data...\n",
            "[nltk_data]    |   Unzipping corpora/pros_cons.zip.\n",
            "[nltk_data]    | Downloading package ptb to /root/nltk_data...\n",
            "[nltk_data]    |   Unzipping corpora/ptb.zip.\n",
            "[nltk_data]    | Downloading package punkt to /root/nltk_data...\n",
            "[nltk_data]    |   Unzipping tokenizers/punkt.zip.\n",
            "[nltk_data]    | Downloading package qc to /root/nltk_data...\n",
            "[nltk_data]    |   Unzipping corpora/qc.zip.\n",
            "[nltk_data]    | Downloading package reuters to /root/nltk_data...\n",
            "[nltk_data]    | Downloading package rslp to /root/nltk_data...\n",
            "[nltk_data]    |   Unzipping stemmers/rslp.zip.\n",
            "[nltk_data]    | Downloading package rte to /root/nltk_data...\n",
            "[nltk_data]    |   Unzipping corpora/rte.zip.\n",
            "[nltk_data]    | Downloading package sample_grammars to\n",
            "[nltk_data]    |     /root/nltk_data...\n",
            "[nltk_data]    |   Unzipping grammars/sample_grammars.zip.\n",
            "[nltk_data]    | Downloading package semcor to /root/nltk_data...\n",
            "[nltk_data]    | Downloading package senseval to /root/nltk_data...\n",
            "[nltk_data]    |   Unzipping corpora/senseval.zip.\n",
            "[nltk_data]    | Downloading package sentence_polarity to\n",
            "[nltk_data]    |     /root/nltk_data...\n",
            "[nltk_data]    |   Unzipping corpora/sentence_polarity.zip.\n",
            "[nltk_data]    | Downloading package sentiwordnet to\n",
            "[nltk_data]    |     /root/nltk_data...\n",
            "[nltk_data]    |   Unzipping corpora/sentiwordnet.zip.\n",
            "[nltk_data]    | Downloading package shakespeare to /root/nltk_data...\n",
            "[nltk_data]    |   Unzipping corpora/shakespeare.zip.\n",
            "[nltk_data]    | Downloading package sinica_treebank to\n",
            "[nltk_data]    |     /root/nltk_data...\n",
            "[nltk_data]    |   Unzipping corpora/sinica_treebank.zip.\n",
            "[nltk_data]    | Downloading package smultron to /root/nltk_data...\n",
            "[nltk_data]    |   Unzipping corpora/smultron.zip.\n",
            "[nltk_data]    | Downloading package snowball_data to\n",
            "[nltk_data]    |     /root/nltk_data...\n",
            "[nltk_data]    | Downloading package spanish_grammars to\n",
            "[nltk_data]    |     /root/nltk_data...\n",
            "[nltk_data]    |   Unzipping grammars/spanish_grammars.zip.\n",
            "[nltk_data]    | Downloading package state_union to /root/nltk_data...\n",
            "[nltk_data]    |   Unzipping corpora/state_union.zip.\n",
            "[nltk_data]    | Downloading package stopwords to /root/nltk_data...\n",
            "[nltk_data]    |   Unzipping corpora/stopwords.zip.\n",
            "[nltk_data]    | Downloading package subjectivity to\n",
            "[nltk_data]    |     /root/nltk_data...\n",
            "[nltk_data]    |   Unzipping corpora/subjectivity.zip.\n",
            "[nltk_data]    | Downloading package swadesh to /root/nltk_data...\n",
            "[nltk_data]    |   Unzipping corpora/swadesh.zip.\n",
            "[nltk_data]    | Downloading package switchboard to /root/nltk_data...\n",
            "[nltk_data]    |   Unzipping corpora/switchboard.zip.\n",
            "[nltk_data]    | Downloading package tagsets to /root/nltk_data...\n",
            "[nltk_data]    |   Unzipping help/tagsets.zip.\n",
            "[nltk_data]    | Downloading package timit to /root/nltk_data...\n",
            "[nltk_data]    |   Unzipping corpora/timit.zip.\n",
            "[nltk_data]    | Downloading package toolbox to /root/nltk_data...\n",
            "[nltk_data]    |   Unzipping corpora/toolbox.zip.\n",
            "[nltk_data]    | Downloading package treebank to /root/nltk_data...\n",
            "[nltk_data]    |   Unzipping corpora/treebank.zip.\n",
            "[nltk_data]    | Downloading package twitter_samples to\n",
            "[nltk_data]    |     /root/nltk_data...\n",
            "[nltk_data]    |   Unzipping corpora/twitter_samples.zip.\n",
            "[nltk_data]    | Downloading package udhr to /root/nltk_data...\n",
            "[nltk_data]    |   Unzipping corpora/udhr.zip.\n",
            "[nltk_data]    | Downloading package udhr2 to /root/nltk_data...\n",
            "[nltk_data]    |   Unzipping corpora/udhr2.zip.\n",
            "[nltk_data]    | Downloading package unicode_samples to\n",
            "[nltk_data]    |     /root/nltk_data...\n",
            "[nltk_data]    |   Unzipping corpora/unicode_samples.zip.\n",
            "[nltk_data]    | Downloading package universal_tagset to\n",
            "[nltk_data]    |     /root/nltk_data...\n",
            "[nltk_data]    |   Unzipping taggers/universal_tagset.zip.\n",
            "[nltk_data]    | Downloading package universal_treebanks_v20 to\n",
            "[nltk_data]    |     /root/nltk_data...\n",
            "[nltk_data]    | Downloading package vader_lexicon to\n",
            "[nltk_data]    |     /root/nltk_data...\n",
            "[nltk_data]    | Downloading package verbnet to /root/nltk_data...\n",
            "[nltk_data]    |   Unzipping corpora/verbnet.zip.\n",
            "[nltk_data]    | Downloading package verbnet3 to /root/nltk_data...\n",
            "[nltk_data]    |   Unzipping corpora/verbnet3.zip.\n",
            "[nltk_data]    | Downloading package webtext to /root/nltk_data...\n",
            "[nltk_data]    |   Unzipping corpora/webtext.zip.\n",
            "[nltk_data]    | Downloading package wmt15_eval to /root/nltk_data...\n",
            "[nltk_data]    |   Unzipping models/wmt15_eval.zip.\n",
            "[nltk_data]    | Downloading package word2vec_sample to\n",
            "[nltk_data]    |     /root/nltk_data...\n",
            "[nltk_data]    |   Unzipping models/word2vec_sample.zip.\n",
            "[nltk_data]    | Downloading package wordnet to /root/nltk_data...\n",
            "[nltk_data]    | Downloading package wordnet2021 to /root/nltk_data...\n",
            "[nltk_data]    | Downloading package wordnet31 to /root/nltk_data...\n",
            "[nltk_data]    | Downloading package wordnet_ic to /root/nltk_data...\n",
            "[nltk_data]    |   Unzipping corpora/wordnet_ic.zip.\n",
            "[nltk_data]    | Downloading package words to /root/nltk_data...\n",
            "[nltk_data]    |   Unzipping corpora/words.zip.\n",
            "[nltk_data]    | Downloading package ycoe to /root/nltk_data...\n",
            "[nltk_data]    |   Unzipping corpora/ycoe.zip.\n",
            "[nltk_data]    | \n",
            "[nltk_data]  Done downloading collection all\n"
          ]
        },
        {
          "output_type": "execute_result",
          "data": {
            "text/plain": [
              "True"
            ]
          },
          "metadata": {},
          "execution_count": 1
        }
      ],
      "source": [
        "!pip install nltk\n",
        "import nltk\n",
        "nltk.download('all')"
      ]
    },
    {
      "cell_type": "markdown",
      "metadata": {
        "id": "yDeUfmDvkWr7"
      },
      "source": []
    },
    {
      "cell_type": "code",
      "execution_count": null,
      "metadata": {
        "colab": {
          "base_uri": "https://localhost:8080/"
        },
        "id": "OGDAV6LtQ7rE",
        "outputId": "161562aa-91b5-4253-a396-c02f42d812d2"
      },
      "outputs": [
        {
          "output_type": "stream",
          "name": "stdout",
          "text": [
            "['toolbox', 'kimmo', 'wordnet31.zip', 'rte.zip', 'product_reviews_2.zip', 'problem_reports', 'unicode_samples.zip', 'problem_reports.zip', 'conll2007.zip', 'product_reviews_2', 'mac_morpho.zip', 'omw.zip', 'senseval', 'comparative_sentences', 'qc', 'nps_chat', 'gazetteers', 'verbnet3', 'comparative_sentences.zip', 'kimmo.zip', 'cmudict', 'treebank', 'biocreative_ppi', 'timit', 'product_reviews_1', 'subjectivity', 'pros_cons.zip', 'sentence_polarity', 'rte', 'nonbreaking_prefixes', 'dependency_treebank.zip', 'pil.zip', 'ppattach.zip', 'gutenberg.zip', 'masc_tagged.zip', 'movie_reviews.zip', 'toolbox.zip', 'words', 'stopwords', 'panlex_swadesh.zip', 'floresta.zip', 'swadesh.zip', 'sinica_treebank.zip', 'switchboard.zip', 'udhr2', 'machado.zip', 'abc.zip', 'city_database', 'universal_treebanks_v20.zip', 'wordnet2021.zip', 'pl196x', 'jeita.zip', 'ptb', 'alpino', 'wordnet_ic.zip', 'qc.zip', 'smultron', 'city_database.zip', 'names.zip', 'verbnet3.zip', 'mte_teip5', 'paradigms', 'udhr.zip', 'conll2002', 'ieer', 'inaugural', 'crubadan', 'comtrans.zip', 'biocreative_ppi.zip', 'conll2000.zip', 'timit.zip', 'extended_omw.zip', 'abc', 'stopwords.zip', 'sentence_polarity.zip', 'verbnet.zip', 'cmudict.zip', 'brown.zip', 'framenet_v15.zip', 'dolch', 'pl196x.zip', 'framenet_v15', 'cess_esp', 'reuters.zip', 'ppattach', 'europarl_raw.zip', 'crubadan.zip', 'switchboard', 'pros_cons', 'state_union', 'floresta', 'gazetteers.zip', 'subjectivity.zip', 'movie_reviews', 'udhr2.zip', 'ptb.zip', 'chat80.zip', 'nonbreaking_prefixes.zip', 'paradigms.zip', 'genesis.zip', 'brown_tei', 'nps_chat.zip', 'unicode_samples', 'shakespeare.zip', 'sinica_treebank', 'propbank.zip', 'pe08', 'framenet_v17.zip', 'lin_thesaurus', 'chat80', 'opinion_lexicon', 'brown', 'cess_esp.zip', 'brown_tei.zip', 'knbc.zip', 'inaugural.zip', 'omw-1.4.zip', 'opinion_lexicon.zip', 'alpino.zip', 'europarl_raw', 'cess_cat', 'cess_cat.zip', 'smultron.zip', 'treebank.zip', 'dolch.zip', 'twitter_samples.zip', 'genesis', 'pil', 'framenet_v17', 'words.zip', 'shakespeare', 'conll2002.zip', 'lin_thesaurus.zip', 'mac_morpho', 'swadesh', 'semcor.zip', 'nombank.1.0.zip', 'webtext', 'indian.zip', 'wordnet_ic', 'ycoe', 'gutenberg', 'sentiwordnet.zip', 'ycoe.zip', 'names', 'sentiwordnet', 'verbnet', 'pe08.zip', 'mte_teip5.zip', 'webtext.zip', 'dependency_treebank', 'conll2000', 'indian', 'product_reviews_1.zip', 'udhr', 'twitter_samples', 'senseval.zip', 'state_union.zip', 'wordnet.zip', 'ieer.zip']\n"
          ]
        }
      ],
      "source": [
        "import os \n",
        "import nltk.corpus\n",
        "print(os.listdir(nltk.data.find(\"corpora\")))"
      ]
    },
    {
      "cell_type": "code",
      "execution_count": null,
      "metadata": {
        "colab": {
          "base_uri": "https://localhost:8080/"
        },
        "id": "YxdPF1GAQ7v8",
        "outputId": "d11806a5-968f-4c97-e0d6-a81d97c545be"
      },
      "outputs": [
        {
          "output_type": "stream",
          "name": "stdout",
          "text": [
            "['The', 'Fulton', 'County', 'Grand', 'Jury', 'said', ...]\n"
          ]
        }
      ],
      "source": [
        "from nltk.corpus import brown\n",
        "print(brown.words())"
      ]
    },
    {
      "cell_type": "code",
      "execution_count": null,
      "metadata": {
        "colab": {
          "base_uri": "https://localhost:8080/"
        },
        "id": "YwbTUNIdRf7l",
        "outputId": "11f93b03-41d7-4f72-a190-cbd8263fbd19"
      },
      "outputs": [
        {
          "output_type": "stream",
          "name": "stdout",
          "text": [
            "The Fulton County Grand Jury said Friday an investigation of Atlanta's recent primary election produced `` no evidence '' that any irregularities took place . The jury further said in term-end presentments that the City Executive Committee , which had over-all charge of the election , `` deserves the praise and thanks of the City of Atlanta '' for the manner in which the election was conducted . The September-October term jury had been charged by Fulton Superior Court Judge Durwood Pye to investigate reports of possible `` irregularities '' in the hard-fought primary which was won by Mayor-nominate Ivan "
          ]
        }
      ],
      "source": [
        "w=brown.words()\n",
        "for i in w[:100]:\n",
        "  print(i,end=\" \")"
      ]
    },
    {
      "cell_type": "code",
      "execution_count": null,
      "metadata": {
        "colab": {
          "base_uri": "https://localhost:8080/"
        },
        "id": "DTtkGWXAUogU",
        "outputId": "8733ddb1-03c9-4083-80bc-9c36f0010b0d"
      },
      "outputs": [
        {
          "output_type": "stream",
          "name": "stdout",
          "text": [
            "['austen-emma.txt', 'austen-persuasion.txt', 'austen-sense.txt', 'bible-kjv.txt', 'blake-poems.txt', 'bryant-stories.txt', 'burgess-busterbrown.txt', 'carroll-alice.txt', 'chesterton-ball.txt', 'chesterton-brown.txt', 'chesterton-thursday.txt', 'edgeworth-parents.txt', 'melville-moby_dick.txt', 'milton-paradise.txt', 'shakespeare-caesar.txt', 'shakespeare-hamlet.txt', 'shakespeare-macbeth.txt', 'whitman-leaves.txt']\n"
          ]
        }
      ],
      "source": [
        "from nltk.corpus import gutenberg\n",
        "print(gutenberg.fileids())"
      ]
    },
    {
      "cell_type": "code",
      "execution_count": null,
      "metadata": {
        "colab": {
          "base_uri": "https://localhost:8080/"
        },
        "id": "bVtnN5PqkiFa",
        "outputId": "23a1db83-0ca5-4124-f10f-846db0758bea"
      },
      "outputs": [
        {
          "output_type": "stream",
          "name": "stdout",
          "text": [
            "['[', 'The', 'Tragedie', 'of', 'Hamlet', 'by', ...]\n",
            "[ The Tragedie of Hamlet by William Shakespeare 1599 ] Actus Primus . Scoena Prima . Enter Barnardo and Francisco two Centinels . Barnardo . Who ' s there ? Fran . Nay answer me : Stand & vnfold your selfe Bar . Long liue the King Fran . Barnardo ? Bar . He Fran . You come most carefully vpon your houre Bar . ' Tis now strook twelue , get thee to bed Francisco Fran . For this releefe much thankes : ' Tis bitter cold , And I am sicke at heart Barn . Haue you had quiet Guard ? Fran . Not a Mouse stirring Barn . Well , goodnight . If you do meet Horatio and Marcellus , the Riuals of my Watch , bid them make hast . Enter Horatio and Marcellus . Fran . I thinke I heare them . Stand : who ' s there ? Hor . Friends to this ground Mar . And Leige - men to the Dane Fran . Giue you good night Mar . O farwel honest Soldier , who hath relieu ' d you ? Fra . Barnardo ha ' s my place : giue you goodnight . Exit Fran . Mar . Holla Barnardo Bar . Say , what is Horatio there ? Hor . A peece of him Bar . Welcome Horatio , welcome good Marcellus Mar . What , ha ' s this thing appear ' d againe to night Bar . I haue seene nothing Mar . Horatio saies , ' tis but our Fantasie , And will not let beleefe take hold of him Touching this dreaded sight , twice seene of vs , Therefore I haue intreated him along With vs , to watch the minutes of this Night , That if againe this Apparition come , He may approue our eyes , and speake to it Hor . Tush , tush , ' twill not appeare Bar . Sit downe a - while , And let vs once againe assaile your eares , That are so fortified against our Story , What we two Nights haue seene Hor . Well , sit we downe , And let vs heare Barnardo speake of this Barn . Last night of all , When yond same Starre that ' s Westward from the Pole Had made his course t ' illume that part of Heauen Where now it burnes , Marcellus and my selfe , The Bell then beating one Mar . Peace , breake thee of : Enter the Ghost . Looke where it comes againe Barn . In the same figure , like the King that ' s dead Mar . Thou art a Scholler ; speake to it Horatio Barn . Lookes it not like the King ? Marke it Horatio Hora . Most like : It harrowes me with fear & wonder Barn . It would be spoke too Mar . Question it Horatio Hor . What art "
          ]
        }
      ],
      "source": [
        "import nltk.corpus\n",
        "hamlet=nltk.corpus.gutenberg.words(\"shakespeare-hamlet.txt\")\n",
        "print(hamlet)\n",
        "for word in hamlet[:500]:\n",
        "  print(word, sep=' ',end=' ')"
      ]
    },
    {
      "cell_type": "code",
      "execution_count": null,
      "metadata": {
        "colab": {
          "base_uri": "https://localhost:8080/"
        },
        "id": "kKTIy_IonKE7",
        "outputId": "ce4d9be5-4f09-4e64-a4d6-7cb2024fbcc0"
      },
      "outputs": [
        {
          "output_type": "stream",
          "name": "stdout",
          "text": [
            "569\n"
          ]
        }
      ],
      "source": [
        "import nltk\n",
        "dir(nltk)\n",
        "print(len(dir(nltk)))"
      ]
    },
    {
      "cell_type": "code",
      "execution_count": null,
      "metadata": {
        "colab": {
          "base_uri": "https://localhost:8080/"
        },
        "id": "lUSjkEV2hxme",
        "outputId": "9e7c3e45-9260-4829-aab6-8432807da877"
      },
      "outputs": [
        {
          "output_type": "stream",
          "name": "stdout",
          "text": [
            "<class 'str'>\n",
            "['Machine', 'learning', '(', 'ML', ')', 'is', 'a', 'type', 'of', 'artificial', 'intelligence', '(', 'AI', ')', 'that', 'allows', 'software', 'applications', 'to', 'become', 'more', 'accurate', 'at', 'predicting', 'outcomes', 'without', 'being', 'explicitly', 'programmed', 'to', 'do', 'so', '.', 'Machine', 'learning', 'algorithms', 'use', 'historical', 'data', 'as', 'input', 'to', 'predict', 'new', 'output', 'values', '.']\n",
            "47\n"
          ]
        }
      ],
      "source": [
        "#tokenization\n",
        "ML = '''Machine learning (ML) is a type of artificial intelligence (AI) that allows software applications to become more accurate at predicting outcomes without being explicitly programmed to do so. Machine learning algorithms use historical data as input to predict new output values. '''\n",
        "print(type(ML))\n",
        "from nltk.tokenize import word_tokenize\n",
        "ML_tokens = word_tokenize(ML)\n",
        "print(ML_tokens)\n",
        "print(len(ML_tokens))"
      ]
    },
    {
      "cell_type": "code",
      "execution_count": null,
      "metadata": {
        "id": "XLm_Topthx-1"
      },
      "outputs": [],
      "source": [
        "#Word Count \n",
        "#FreqDist function gives the frequency of words within a text.\n",
        "from nltk.probability import FreqDist\n",
        "fdist = FreqDist()\n",
        "for word in ML_tokens:\n",
        "  #to convert all tokens in lowercase\n",
        "  fdist[word.lower()]+=1\n",
        "  fdist\n"
      ]
    },
    {
      "cell_type": "code",
      "execution_count": null,
      "metadata": {
        "colab": {
          "base_uri": "https://localhost:8080/"
        },
        "id": "tBOwEqMDsXp1",
        "outputId": "3ae876b7-c0a2-4679-d7f8-0bc49ccbb307"
      },
      "outputs": [
        {
          "output_type": "execute_result",
          "data": {
            "text/plain": [
              "[('to', 3),\n",
              " ('machine', 2),\n",
              " ('learning', 2),\n",
              " ('(', 2),\n",
              " (')', 2),\n",
              " ('.', 2),\n",
              " ('ml', 1),\n",
              " ('is', 1),\n",
              " ('a', 1),\n",
              " ('type', 1)]"
            ]
          },
          "metadata": {},
          "execution_count": 10
        }
      ],
      "source": [
        "fdist.most_common(10)"
      ]
    },
    {
      "cell_type": "code",
      "execution_count": null,
      "metadata": {
        "colab": {
          "base_uri": "https://localhost:8080/"
        },
        "id": "fStZ5b12sm3N",
        "outputId": "8f98ab2f-0b00-4829-d4c5-c40448a9c132"
      },
      "outputs": [
        {
          "output_type": "execute_result",
          "data": {
            "text/plain": [
              "3"
            ]
          },
          "metadata": {},
          "execution_count": 11
        }
      ],
      "source": [
        "ML = ''' What is machine learning with example?\n",
        "\n",
        "\n",
        "Image result for machine learning\n",
        "\n",
        "Supervised machine learning models are trained with labeled data sets. \n",
        "which allow the models to learn and grow more accurate over time.\n",
        "For example, an algorithm would be trained with pictures of dogs and other things, all labeled by humans.'''\n",
        "\n",
        "\n",
        "from nltk.tokenize import blankline_tokenize\n",
        "ML_blank = blankline_tokenize(ML)\n",
        "len(ML_blank)"
      ]
    },
    {
      "cell_type": "code",
      "execution_count": null,
      "metadata": {
        "colab": {
          "base_uri": "https://localhost:8080/"
        },
        "id": "Gh2FVSpIuDnP",
        "outputId": "8392b6f7-c9fd-466c-8f53-09a297e7f5d5"
      },
      "outputs": [
        {
          "output_type": "stream",
          "name": "stdout",
          "text": [
            "['Hello, How are you?', 'Welcome to our University.']\n"
          ]
        }
      ],
      "source": [
        "text = \"Hello, How are you? Welcome to our University.\"\n",
        "from nltk.tokenize import sent_tokenize\n",
        "print(nltk.sent_tokenize(text))"
      ]
    },
    {
      "cell_type": "code",
      "execution_count": null,
      "metadata": {
        "colab": {
          "base_uri": "https://localhost:8080/"
        },
        "id": "LBVIIn0Nl2Wh",
        "outputId": "7b1d17cc-6f80-4dbf-8157-ac13f339a3a9"
      },
      "outputs": [
        {
          "output_type": "stream",
          "name": "stdout",
          "text": [
            "['Hello, Mr.Smith,  How are you?', 'Welcome to our University.']\n"
          ]
        }
      ],
      "source": [
        "text = \"Hello, Mr.Smith,  How are you? Welcome to our University.\"\n",
        "from nltk.tokenize import sent_tokenize\n",
        "print(nltk.sent_tokenize(text))"
      ]
    },
    {
      "cell_type": "code",
      "execution_count": null,
      "metadata": {
        "colab": {
          "base_uri": "https://localhost:8080/"
        },
        "id": "CHETQEOSqXlF",
        "outputId": "814cf9b1-0427-4cc0-b07d-b2429523ed29"
      },
      "outputs": [
        {
          "output_type": "execute_result",
          "data": {
            "text/plain": [
              "[('What', 'is'),\n",
              " ('is', 'machine'),\n",
              " ('machine', 'learning'),\n",
              " ('learning', 'with'),\n",
              " ('with', 'example'),\n",
              " ('example', '?'),\n",
              " ('?', 'Image'),\n",
              " ('Image', 'result'),\n",
              " ('result', 'for'),\n",
              " ('for', 'machine'),\n",
              " ('machine', 'learning'),\n",
              " ('learning', 'Supervised'),\n",
              " ('Supervised', 'machine'),\n",
              " ('machine', 'learning'),\n",
              " ('learning', 'models'),\n",
              " ('models', 'are'),\n",
              " ('are', 'trained'),\n",
              " ('trained', 'with'),\n",
              " ('with', 'labeled'),\n",
              " ('labeled', 'data'),\n",
              " ('data', 'sets'),\n",
              " ('sets', '.'),\n",
              " ('.', 'which'),\n",
              " ('which', 'allow'),\n",
              " ('allow', 'the'),\n",
              " ('the', 'models'),\n",
              " ('models', 'to'),\n",
              " ('to', 'learn'),\n",
              " ('learn', 'and'),\n",
              " ('and', 'grow'),\n",
              " ('grow', 'more'),\n",
              " ('more', 'accurate'),\n",
              " ('accurate', 'over'),\n",
              " ('over', 'time'),\n",
              " ('time', '.'),\n",
              " ('.', 'For'),\n",
              " ('For', 'example'),\n",
              " ('example', ','),\n",
              " (',', 'an'),\n",
              " ('an', 'algorithm'),\n",
              " ('algorithm', 'would'),\n",
              " ('would', 'be'),\n",
              " ('be', 'trained'),\n",
              " ('trained', 'with'),\n",
              " ('with', 'pictures'),\n",
              " ('pictures', 'of'),\n",
              " ('of', 'dogs'),\n",
              " ('dogs', 'and'),\n",
              " ('and', 'other'),\n",
              " ('other', 'things'),\n",
              " ('things', ','),\n",
              " (',', 'all'),\n",
              " ('all', 'labeled'),\n",
              " ('labeled', 'by'),\n",
              " ('by', 'humans'),\n",
              " ('humans', '.')]"
            ]
          },
          "metadata": {},
          "execution_count": 14
        }
      ],
      "source": [
        "from nltk.util import bigrams, trigrams, ngrams\n",
        "import nltk\n",
        "MLtokens = nltk.word_tokenize(ML)\n",
        "MLtokens\n",
        "ML_bigrams=list(nltk.bigrams(MLtokens))\n",
        "ML_bigrams"
      ]
    },
    {
      "cell_type": "code",
      "execution_count": null,
      "metadata": {
        "colab": {
          "base_uri": "https://localhost:8080/"
        },
        "id": "4CDNzFyMrp6T",
        "outputId": "a6292590-ce83-4ac9-dcb2-eea44163c74d"
      },
      "outputs": [
        {
          "output_type": "execute_result",
          "data": {
            "text/plain": [
              "[('What', 'is', 'machine'),\n",
              " ('is', 'machine', 'learning'),\n",
              " ('machine', 'learning', 'with'),\n",
              " ('learning', 'with', 'example'),\n",
              " ('with', 'example', '?'),\n",
              " ('example', '?', 'Image'),\n",
              " ('?', 'Image', 'result'),\n",
              " ('Image', 'result', 'for'),\n",
              " ('result', 'for', 'machine'),\n",
              " ('for', 'machine', 'learning'),\n",
              " ('machine', 'learning', 'Supervised'),\n",
              " ('learning', 'Supervised', 'machine'),\n",
              " ('Supervised', 'machine', 'learning'),\n",
              " ('machine', 'learning', 'models'),\n",
              " ('learning', 'models', 'are'),\n",
              " ('models', 'are', 'trained'),\n",
              " ('are', 'trained', 'with'),\n",
              " ('trained', 'with', 'labeled'),\n",
              " ('with', 'labeled', 'data'),\n",
              " ('labeled', 'data', 'sets'),\n",
              " ('data', 'sets', '.'),\n",
              " ('sets', '.', 'which'),\n",
              " ('.', 'which', 'allow'),\n",
              " ('which', 'allow', 'the'),\n",
              " ('allow', 'the', 'models'),\n",
              " ('the', 'models', 'to'),\n",
              " ('models', 'to', 'learn'),\n",
              " ('to', 'learn', 'and'),\n",
              " ('learn', 'and', 'grow'),\n",
              " ('and', 'grow', 'more'),\n",
              " ('grow', 'more', 'accurate'),\n",
              " ('more', 'accurate', 'over'),\n",
              " ('accurate', 'over', 'time'),\n",
              " ('over', 'time', '.'),\n",
              " ('time', '.', 'For'),\n",
              " ('.', 'For', 'example'),\n",
              " ('For', 'example', ','),\n",
              " ('example', ',', 'an'),\n",
              " (',', 'an', 'algorithm'),\n",
              " ('an', 'algorithm', 'would'),\n",
              " ('algorithm', 'would', 'be'),\n",
              " ('would', 'be', 'trained'),\n",
              " ('be', 'trained', 'with'),\n",
              " ('trained', 'with', 'pictures'),\n",
              " ('with', 'pictures', 'of'),\n",
              " ('pictures', 'of', 'dogs'),\n",
              " ('of', 'dogs', 'and'),\n",
              " ('dogs', 'and', 'other'),\n",
              " ('and', 'other', 'things'),\n",
              " ('other', 'things', ','),\n",
              " ('things', ',', 'all'),\n",
              " (',', 'all', 'labeled'),\n",
              " ('all', 'labeled', 'by'),\n",
              " ('labeled', 'by', 'humans'),\n",
              " ('by', 'humans', '.')]"
            ]
          },
          "metadata": {},
          "execution_count": 15
        }
      ],
      "source": [
        "from nltk.util import bigrams, trigrams, ngrams\n",
        "import nltk\n",
        "MLtokens = nltk.word_tokenize(ML)\n",
        "MLtokens\n",
        "ML_trigrams=list(nltk.trigrams(MLtokens))\n",
        "ML_trigrams"
      ]
    },
    {
      "cell_type": "code",
      "execution_count": null,
      "metadata": {
        "colab": {
          "base_uri": "https://localhost:8080/"
        },
        "id": "r-_zXK_5t__z",
        "outputId": "ac49165f-1dee-463a-f5ed-65494d1bbdfd"
      },
      "outputs": [
        {
          "output_type": "execute_result",
          "data": {
            "text/plain": [
              "[('What', 'is', 'machine', 'learning', 'with'),\n",
              " ('is', 'machine', 'learning', 'with', 'example'),\n",
              " ('machine', 'learning', 'with', 'example', '?'),\n",
              " ('learning', 'with', 'example', '?', 'Image'),\n",
              " ('with', 'example', '?', 'Image', 'result'),\n",
              " ('example', '?', 'Image', 'result', 'for'),\n",
              " ('?', 'Image', 'result', 'for', 'machine'),\n",
              " ('Image', 'result', 'for', 'machine', 'learning'),\n",
              " ('result', 'for', 'machine', 'learning', 'Supervised'),\n",
              " ('for', 'machine', 'learning', 'Supervised', 'machine'),\n",
              " ('machine', 'learning', 'Supervised', 'machine', 'learning'),\n",
              " ('learning', 'Supervised', 'machine', 'learning', 'models'),\n",
              " ('Supervised', 'machine', 'learning', 'models', 'are'),\n",
              " ('machine', 'learning', 'models', 'are', 'trained'),\n",
              " ('learning', 'models', 'are', 'trained', 'with'),\n",
              " ('models', 'are', 'trained', 'with', 'labeled'),\n",
              " ('are', 'trained', 'with', 'labeled', 'data'),\n",
              " ('trained', 'with', 'labeled', 'data', 'sets'),\n",
              " ('with', 'labeled', 'data', 'sets', '.'),\n",
              " ('labeled', 'data', 'sets', '.', 'which'),\n",
              " ('data', 'sets', '.', 'which', 'allow'),\n",
              " ('sets', '.', 'which', 'allow', 'the'),\n",
              " ('.', 'which', 'allow', 'the', 'models'),\n",
              " ('which', 'allow', 'the', 'models', 'to'),\n",
              " ('allow', 'the', 'models', 'to', 'learn'),\n",
              " ('the', 'models', 'to', 'learn', 'and'),\n",
              " ('models', 'to', 'learn', 'and', 'grow'),\n",
              " ('to', 'learn', 'and', 'grow', 'more'),\n",
              " ('learn', 'and', 'grow', 'more', 'accurate'),\n",
              " ('and', 'grow', 'more', 'accurate', 'over'),\n",
              " ('grow', 'more', 'accurate', 'over', 'time'),\n",
              " ('more', 'accurate', 'over', 'time', '.'),\n",
              " ('accurate', 'over', 'time', '.', 'For'),\n",
              " ('over', 'time', '.', 'For', 'example'),\n",
              " ('time', '.', 'For', 'example', ','),\n",
              " ('.', 'For', 'example', ',', 'an'),\n",
              " ('For', 'example', ',', 'an', 'algorithm'),\n",
              " ('example', ',', 'an', 'algorithm', 'would'),\n",
              " (',', 'an', 'algorithm', 'would', 'be'),\n",
              " ('an', 'algorithm', 'would', 'be', 'trained'),\n",
              " ('algorithm', 'would', 'be', 'trained', 'with'),\n",
              " ('would', 'be', 'trained', 'with', 'pictures'),\n",
              " ('be', 'trained', 'with', 'pictures', 'of'),\n",
              " ('trained', 'with', 'pictures', 'of', 'dogs'),\n",
              " ('with', 'pictures', 'of', 'dogs', 'and'),\n",
              " ('pictures', 'of', 'dogs', 'and', 'other'),\n",
              " ('of', 'dogs', 'and', 'other', 'things'),\n",
              " ('dogs', 'and', 'other', 'things', ','),\n",
              " ('and', 'other', 'things', ',', 'all'),\n",
              " ('other', 'things', ',', 'all', 'labeled'),\n",
              " ('things', ',', 'all', 'labeled', 'by'),\n",
              " (',', 'all', 'labeled', 'by', 'humans'),\n",
              " ('all', 'labeled', 'by', 'humans', '.')]"
            ]
          },
          "metadata": {},
          "execution_count": 16
        }
      ],
      "source": [
        "from nltk.util import bigrams, trigrams, ngrams\n",
        "import nltk\n",
        "MLtokens = nltk.word_tokenize(ML)\n",
        "MLtokens\n",
        "ML_ngrams=list(nltk.ngrams(MLtokens,5))\n",
        "ML_ngrams"
      ]
    },
    {
      "cell_type": "code",
      "execution_count": null,
      "metadata": {
        "colab": {
          "base_uri": "https://localhost:8080/"
        },
        "id": "IE7O8MFasJWv",
        "outputId": "ae657ccf-74e1-4081-96aa-4510f09eb460"
      },
      "outputs": [
        {
          "output_type": "stream",
          "name": "stdout",
          "text": [
            "{'me', 'under', 'too', 'it', 'have', 'does', 'up', 'because', 'no', 'has', 'itself', 'them', 'will', 'herself', 'wouldn', 'this', 'during', 'she', \"won't\", 'was', 'if', 'theirs', 'won', 'your', 'same', 'then', 'and', 'hadn', 'an', \"haven't\", 'for', 'mightn', \"mightn't\", 'needn', \"you'll\", 'but', 'against', 'from', 'are', \"wasn't\", 'yours', 'at', 'who', \"needn't\", 'don', 'until', 'should', 'those', 'were', 'a', 'to', 'there', \"shan't\", 'weren', 'had', 'his', 'myself', 'above', 'out', 've', \"doesn't\", 'doing', 'before', 'further', 'which', 'nor', 'we', 'wasn', 'shouldn', 'into', 'mustn', \"weren't\", 'own', \"hadn't\", 'on', 'o', 'be', 'couldn', \"hasn't\", \"wouldn't\", 't', 'themselves', 'most', 'can', 'being', 'you', 'he', 'in', 'off', 's', 'as', 'am', 'doesn', 'while', 'now', 'm', 'why', \"mustn't\", 'with', 'their', 'between', 'ain', \"you'd\", 're', 'its', 'himself', 'down', 'whom', 'once', \"shouldn't\", 'through', 'd', 'about', 'all', 'yourself', 'him', \"don't\", 'they', 'after', 'below', 'or', 'that', 'each', 'here', \"should've\", 'hasn', 'these', 'again', 'few', 'the', 'such', 'both', 'only', \"aren't\", \"isn't\", 'where', 'when', 'll', \"she's\", 'didn', 'i', 'more', 'y', 'shan', \"you've\", 'by', 'ma', 'than', 'did', 'yourselves', 'been', 'what', 'very', 'some', 'our', 'over', 'so', 'my', 'isn', 'haven', 'how', 'hers', 'not', 'other', 'aren', \"didn't\", 'having', 'ourselves', 'ours', \"you're\", \"it's\", \"couldn't\", 'her', 'do', 'any', 'is', 'of', 'just', \"that'll\"}\n"
          ]
        }
      ],
      "source": [
        "from nltk.corpus import stopwords\n",
        "from nltk.tokenize import word_tokenize\n",
        "stop_words=set(stopwords.words(\"english\"))\n",
        "print(stop_words)"
      ]
    },
    {
      "cell_type": "code",
      "execution_count": null,
      "metadata": {
        "colab": {
          "base_uri": "https://localhost:8080/"
        },
        "id": "4XFVqyE4sXlx",
        "outputId": "17d22f48-5b58-4b76-ffa9-efb90c61295a"
      },
      "outputs": [
        {
          "output_type": "stream",
          "name": "stdout",
          "text": [
            "['Hello']\n",
            "['Hello', 'Mr.']\n",
            "['Hello', 'Mr.', 'Joh']\n",
            "['Hello', 'Mr.', 'Joh', 'bhi']\n",
            "['Hello', 'Mr.', 'Joh', 'bhi', 'ho']\n",
            "['Hello', 'Mr.', 'Joh', 'bhi', 'ho', ',']\n",
            "['Hello', 'Mr.', 'Joh', 'bhi', 'ho', ',', 'kesan']\n",
            "['Hello', 'Mr.', 'Joh', 'bhi', 'ho', ',', 'kesan', 'ba']\n",
            "['Hello', 'Mr.', 'Joh', 'bhi', 'ho', ',', 'kesan', 'ba', '?']\n",
            "['Hello', 'Mr.', 'Joh', 'bhi', 'ho', ',', 'kesan', 'ba', '?', 'yeh']\n",
            "['Hello', 'Mr.', 'Joh', 'bhi', 'ho', ',', 'kesan', 'ba', '?', 'yeh', 'hmar']\n",
            "['Hello', 'Mr.', 'Joh', 'bhi', 'ho', ',', 'kesan', 'ba', '?', 'yeh', 'hmar', 'GLA']\n",
            "['Hello', 'Mr.', 'Joh', 'bhi', 'ho', ',', 'kesan', 'ba', '?', 'yeh', 'hmar', 'GLA', 'university']\n",
            "['Hello', 'Mr.', 'Joh', 'bhi', 'ho', ',', 'kesan', 'ba', '?', 'yeh', 'hmar', 'GLA', 'university', 'h.']\n",
            "['Hello', 'Mr.', 'Joh', 'bhi', 'ho', ',', 'kesan', 'ba', '?', 'yeh', 'hmar', 'GLA', 'university', 'h.', 'hum']\n",
            "['Hello', 'Mr.', 'Joh', 'bhi', 'ho', ',', 'kesan', 'ba', '?', 'yeh', 'hmar', 'GLA', 'university', 'h.', 'hum', 'idhar']\n",
            "['Hello', 'Mr.', 'Joh', 'bhi', 'ho', ',', 'kesan', 'ba', '?', 'yeh', 'hmar', 'GLA', 'university', 'h.', 'hum', 'idhar', 'theka']\n",
            "['Hello', 'Mr.', 'Joh', 'bhi', 'ho', ',', 'kesan', 'ba', '?', 'yeh', 'hmar', 'GLA', 'university', 'h.', 'hum', 'idhar', 'theka', 'lgakr']\n",
            "['Hello', 'Mr.', 'Joh', 'bhi', 'ho', ',', 'kesan', 'ba', '?', 'yeh', 'hmar', 'GLA', 'university', 'h.', 'hum', 'idhar', 'theka', 'lgakr', 'bethe']\n",
            "['Hello', 'Mr.', 'Joh', 'bhi', 'ho', ',', 'kesan', 'ba', '?', 'yeh', 'hmar', 'GLA', 'university', 'h.', 'hum', 'idhar', 'theka', 'lgakr', 'bethe', 'h']\n",
            "['Hello', 'Mr.', 'Joh', 'bhi', 'ho', ',', 'kesan', 'ba', '?', 'yeh', 'hmar', 'GLA', 'university', 'h.', 'hum', 'idhar', 'theka', 'lgakr', 'bethe', 'h', ',']\n",
            "['Hello', 'Mr.', 'Joh', 'bhi', 'ho', ',', 'kesan', 'ba', '?', 'yeh', 'hmar', 'GLA', 'university', 'h.', 'hum', 'idhar', 'theka', 'lgakr', 'bethe', 'h', ',', 'tum']\n",
            "['Hello', 'Mr.', 'Joh', 'bhi', 'ho', ',', 'kesan', 'ba', '?', 'yeh', 'hmar', 'GLA', 'university', 'h.', 'hum', 'idhar', 'theka', 'lgakr', 'bethe', 'h', ',', 'tum', 'bhi']\n",
            "['Hello', 'Mr.', 'Joh', 'bhi', 'ho', ',', 'kesan', 'ba', '?', 'yeh', 'hmar', 'GLA', 'university', 'h.', 'hum', 'idhar', 'theka', 'lgakr', 'bethe', 'h', ',', 'tum', 'bhi', 'ajao']\n",
            "['Hello', 'Mr.', 'Joh', 'bhi', 'ho', ',', 'kesan', 'ba', '?', 'yeh', 'hmar', 'GLA', 'university', 'h.', 'hum', 'idhar', 'theka', 'lgakr', 'bethe', 'h', ',', 'tum', 'bhi', 'ajao', '.']\n"
          ]
        }
      ],
      "source": [
        "from nltk.corpus import stopwords\n",
        "from nltk.tokenize import word_tokenize\n",
        "stop_words=set(stopwords.words(\"english\"))\n",
        "text=\"Hello Mr. Joh bhi ho, kesan ba? yeh hmar GLA university h. hum idhar theka lgakr bethe h, tum bhi ajao.\"\n",
        "words=word_tokenize(text)\n",
        "filtered_sentence=[]\n",
        "for w in words:\n",
        "  if w not in stop_words:\n",
        "    filtered_sentence.append(w)\n",
        "    print(filtered_sentence)"
      ]
    },
    {
      "cell_type": "code",
      "execution_count": null,
      "metadata": {
        "colab": {
          "base_uri": "https://localhost:8080/"
        },
        "id": "2Clh94TKqT8S",
        "outputId": "3611e0bf-895f-4c95-d539-e6765e98b78f"
      },
      "outputs": [
        {
          "output_type": "stream",
          "name": "stdout",
          "text": [
            "give:giv\n",
            "given:given\n",
            "giving:giving\n",
            "gave:gav\n"
          ]
        }
      ],
      "source": [
        "from nltk.stem import SnowballStemmer\n",
        "sst = SnowballStemmer(\"french\")\n",
        "wordstostem=[\"give\",\"given\",\"giving\",\"gave\"]\n",
        "for words in wordstostem:\n",
        "  print(words+\":\"+sst.stem(words))"
      ]
    },
    {
      "cell_type": "code",
      "execution_count": null,
      "metadata": {
        "colab": {
          "base_uri": "https://localhost:8080/"
        },
        "id": "ykN-4RF1tPmL",
        "outputId": "898e15ee-be8d-4e12-b039-4e8c74a08df0"
      },
      "outputs": [
        {
          "output_type": "stream",
          "name": "stdout",
          "text": [
            "python\n",
            "python\n",
            "python\n",
            "python\n",
            "pythonli\n"
          ]
        }
      ],
      "source": [
        "from nltk.stem import PorterStemmer\n",
        "from nltk.tokenize import word_tokenize\n",
        "ps=PorterStemmer()\n",
        "example_words=['python','pythoner','pythoning','pythoned','pythonly']\n",
        "for w in example_words:\n",
        "  print(ps.stem(w))"
      ]
    },
    {
      "cell_type": "code",
      "execution_count": null,
      "metadata": {
        "colab": {
          "base_uri": "https://localhost:8080/"
        },
        "id": "SJNHs5HZzdq4",
        "outputId": "f7e723fe-f866-477e-d844-d48e748178f3"
      },
      "outputs": [
        {
          "output_type": "stream",
          "name": "stdout",
          "text": [
            "python\n",
            "python\n",
            "python\n",
            "python\n",
            "python\n"
          ]
        }
      ],
      "source": [
        "from nltk.stem import LancasterStemmer\n",
        "from nltk.corpus import stopwords\n",
        "from nltk.tokenize import word_tokenize\n",
        "ls = LancasterStemmer()\n",
        "example_words = ['python','pythoner','pythoning','pythoned','pythonly']\n",
        "for w in example_words:\n",
        "    print(ls.stem(w))"
      ]
    },
    {
      "cell_type": "code",
      "execution_count": null,
      "metadata": {
        "id": "qrDl3z3k1zio"
      },
      "outputs": [],
      "source": [
        "x = [3,2,0,5]\n",
        "y = [1,0,0,0]\n",
        "def jaccard(list1, list2):\n",
        "  intersection = len(list(set(list1).intersection(list2)))\n",
        "  union = (len(list1) + len(list2)) - intersection\n",
        "  return float(intersection) / union\n",
        "  jaccard(x, y)"
      ]
    },
    {
      "cell_type": "code",
      "execution_count": null,
      "metadata": {
        "colab": {
          "base_uri": "https://localhost:8080/"
        },
        "id": "aGGTf2Uo3Ibx",
        "outputId": "e4e7c4dc-8eb5-4b81-c9eb-0ab27159c0ec"
      },
      "outputs": [
        {
          "output_type": "stream",
          "name": "stdout",
          "text": [
            "0.48666426339228763\n"
          ]
        }
      ],
      "source": [
        "from numpy import dot\n",
        "from numpy.linalg import norm\n",
        "list1 = [3,2,0,5]\n",
        "list2 = [1,0,0,0]\n",
        "result = dot(list1, list2)/(norm(list1)*norm(list2))\n",
        "print(result)"
      ]
    },
    {
      "cell_type": "code",
      "execution_count": null,
      "metadata": {
        "id": "JXKng81V4rSw"
      },
      "outputs": [],
      "source": [
        "x = [3,2,0,5]\n",
        "y = [1,0,0,0]\n",
        "def jaccard_similarity(x, y):\n",
        "  nominator = x.intersection(y)DD\n",
        "  denominator = x.union(y)\n",
        "  similarity = len(nominator)/len(denominator)\n",
        "  return similarity"
      ]
    },
    {
      "cell_type": "code",
      "execution_count": null,
      "metadata": {
        "id": "51d6A0kaxocM"
      },
      "outputs": [],
      "source": [
        "import spacy"
      ]
    },
    {
      "cell_type": "code",
      "source": [
        "nlpb= spacy.load(\"en_core_web_sm\")\n",
        "nlpb.pipe_names"
      ],
      "metadata": {
        "colab": {
          "base_uri": "https://localhost:8080/"
        },
        "id": "AY92J2ofwxjs",
        "outputId": "dd86b80e-c35d-4d73-8155-ab3868aa4024"
      },
      "execution_count": null,
      "outputs": [
        {
          "output_type": "execute_result",
          "data": {
            "text/plain": [
              "['tok2vec', 'tagger', 'parser', 'attribute_ruler', 'lemmatizer', 'ner']"
            ]
          },
          "metadata": {},
          "execution_count": 27
        }
      ]
    },
    {
      "cell_type": "code",
      "source": [
        "doc = nlpb(\"this is a natural language\")\n",
        "doc.text"
      ],
      "metadata": {
        "colab": {
          "base_uri": "https://localhost:8080/",
          "height": 36
        },
        "id": "Znnh0ai3x-ba",
        "outputId": "b8852bf8-9880-43f5-db77-8b99f0529cbc"
      },
      "execution_count": null,
      "outputs": [
        {
          "output_type": "execute_result",
          "data": {
            "text/plain": [
              "'this is a natural language'"
            ],
            "application/vnd.google.colaboratory.intrinsic+json": {
              "type": "string"
            }
          },
          "metadata": {},
          "execution_count": 29
        }
      ]
    },
    {
      "cell_type": "code",
      "source": [
        "doc[0].pos_"
      ],
      "metadata": {
        "colab": {
          "base_uri": "https://localhost:8080/",
          "height": 36
        },
        "id": "wKMGXCbFzRKg",
        "outputId": "c97bf47b-dbdb-4fc4-fb83-43d5095e1338"
      },
      "execution_count": null,
      "outputs": [
        {
          "output_type": "execute_result",
          "data": {
            "text/plain": [
              "'PRON'"
            ],
            "application/vnd.google.colaboratory.intrinsic+json": {
              "type": "string"
            }
          },
          "metadata": {},
          "execution_count": 30
        }
      ]
    },
    {
      "cell_type": "code",
      "source": [
        "doc[0].tag_"
      ],
      "metadata": {
        "colab": {
          "base_uri": "https://localhost:8080/",
          "height": 36
        },
        "id": "t7JMzQL_z77A",
        "outputId": "769a7e04-5384-47d6-8989-818b3aa3cff8"
      },
      "execution_count": null,
      "outputs": [
        {
          "output_type": "execute_result",
          "data": {
            "text/plain": [
              "'DT'"
            ],
            "application/vnd.google.colaboratory.intrinsic+json": {
              "type": "string"
            }
          },
          "metadata": {},
          "execution_count": 31
        }
      ]
    },
    {
      "cell_type": "code",
      "source": [
        "spacy.explain('PRON')"
      ],
      "metadata": {
        "colab": {
          "base_uri": "https://localhost:8080/",
          "height": 36
        },
        "id": "5eNtSl8u0JQY",
        "outputId": "878ae1e4-cf3e-4ccf-a0da-6c861b9186d5"
      },
      "execution_count": null,
      "outputs": [
        {
          "output_type": "execute_result",
          "data": {
            "text/plain": [
              "'pronoun'"
            ],
            "application/vnd.google.colaboratory.intrinsic+json": {
              "type": "string"
            }
          },
          "metadata": {},
          "execution_count": 32
        }
      ]
    },
    {
      "cell_type": "code",
      "source": [
        "spacy.explain('DT')"
      ],
      "metadata": {
        "colab": {
          "base_uri": "https://localhost:8080/",
          "height": 36
        },
        "id": "WLMtAKCr00cJ",
        "outputId": "73b9bbbd-cef7-4348-8f82-54196b173b5b"
      },
      "execution_count": null,
      "outputs": [
        {
          "output_type": "execute_result",
          "data": {
            "text/plain": [
              "'determiner'"
            ],
            "application/vnd.google.colaboratory.intrinsic+json": {
              "type": "string"
            }
          },
          "metadata": {},
          "execution_count": 33
        }
      ]
    },
    {
      "cell_type": "code",
      "source": [
        "for token in doc:\n",
        "  print(token.text, \"---->\", token.pos_, token.tag_,spacy.explain)"
      ],
      "metadata": {
        "colab": {
          "base_uri": "https://localhost:8080/"
        },
        "id": "crL6l6I804Rx",
        "outputId": "e7ddab52-335e-4c7d-9b97-9b97ec9412a0"
      },
      "execution_count": null,
      "outputs": [
        {
          "output_type": "stream",
          "name": "stdout",
          "text": [
            "this ----> PRON DT <function explain at 0x7f721d4a8b90>\n",
            "is ----> AUX VBZ <function explain at 0x7f721d4a8b90>\n",
            "a ----> DET DT <function explain at 0x7f721d4a8b90>\n",
            "natural ----> ADJ JJ <function explain at 0x7f721d4a8b90>\n",
            "language ----> NOUN NN <function explain at 0x7f721d4a8b90>\n"
          ]
        }
      ]
    },
    {
      "cell_type": "code",
      "source": [
        "doc1 = nlpb(\"You must to left the room\")\n",
        "doc1.text"
      ],
      "metadata": {
        "colab": {
          "base_uri": "https://localhost:8080/",
          "height": 36
        },
        "id": "pI-OdHw41uCf",
        "outputId": "1388f066-fe43-424b-fc0d-e3eec6079be4"
      },
      "execution_count": null,
      "outputs": [
        {
          "output_type": "execute_result",
          "data": {
            "text/plain": [
              "'You must to left the room'"
            ],
            "application/vnd.google.colaboratory.intrinsic+json": {
              "type": "string"
            }
          },
          "metadata": {},
          "execution_count": 39
        }
      ]
    },
    {
      "cell_type": "code",
      "source": [
        "doc1[0].pos_"
      ],
      "metadata": {
        "colab": {
          "base_uri": "https://localhost:8080/",
          "height": 36
        },
        "id": "M5o-U_5M3lnC",
        "outputId": "98b14a36-2097-4d25-8fa3-d968593b8670"
      },
      "execution_count": null,
      "outputs": [
        {
          "output_type": "execute_result",
          "data": {
            "text/plain": [
              "'PRON'"
            ],
            "application/vnd.google.colaboratory.intrinsic+json": {
              "type": "string"
            }
          },
          "metadata": {},
          "execution_count": 42
        }
      ]
    },
    {
      "cell_type": "code",
      "source": [
        "doc1[1].tag_"
      ],
      "metadata": {
        "colab": {
          "base_uri": "https://localhost:8080/",
          "height": 36
        },
        "id": "NnrS6Cy-3nHK",
        "outputId": "4f9c4d45-0c77-45a2-91ea-2add5e5166f8"
      },
      "execution_count": null,
      "outputs": [
        {
          "output_type": "execute_result",
          "data": {
            "text/plain": [
              "'MD'"
            ],
            "application/vnd.google.colaboratory.intrinsic+json": {
              "type": "string"
            }
          },
          "metadata": {},
          "execution_count": 43
        }
      ]
    },
    {
      "cell_type": "code",
      "source": [
        "for token in doc1:\n",
        "  print(token.text, \"--->\", token.pos_, token.tag_, spacy.explain)"
      ],
      "metadata": {
        "colab": {
          "base_uri": "https://localhost:8080/"
        },
        "id": "gtCSYSAq3vEy",
        "outputId": "6c98922b-ee2f-4c98-bc38-357b44b3c8a6"
      },
      "execution_count": null,
      "outputs": [
        {
          "output_type": "stream",
          "name": "stdout",
          "text": [
            "You ---> PRON PRP <function explain at 0x7f721d4a8b90>\n",
            "must ---> AUX MD <function explain at 0x7f721d4a8b90>\n",
            "to ---> PART TO <function explain at 0x7f721d4a8b90>\n",
            "left ---> VERB VB <function explain at 0x7f721d4a8b90>\n",
            "the ---> DET DT <function explain at 0x7f721d4a8b90>\n",
            "room ---> NOUN NN <function explain at 0x7f721d4a8b90>\n"
          ]
        }
      ]
    },
    {
      "cell_type": "code",
      "source": [
        "from spacy import displacy"
      ],
      "metadata": {
        "id": "9JG07Hfv4FIU"
      },
      "execution_count": null,
      "outputs": []
    },
    {
      "cell_type": "code",
      "source": [
        "displacy.render(doc1, style = 'dep', jupyter = True)"
      ],
      "metadata": {
        "colab": {
          "base_uri": "https://localhost:8080/",
          "height": 334
        },
        "id": "fBqRAy2Q4eAc",
        "outputId": "e0672bf7-22b3-45a6-82dc-243ff08f32f6"
      },
      "execution_count": null,
      "outputs": [
        {
          "output_type": "display_data",
          "data": {
            "text/plain": [
              "<IPython.core.display.HTML object>"
            ],
            "text/html": [
              "<span class=\"tex2jax_ignore\"><svg xmlns=\"http://www.w3.org/2000/svg\" xmlns:xlink=\"http://www.w3.org/1999/xlink\" xml:lang=\"en\" id=\"8faf0a07e02c4adaa451c9091522171e-0\" class=\"displacy\" width=\"1100\" height=\"312.0\" direction=\"ltr\" style=\"max-width: none; height: 312.0px; color: #000000; background: #ffffff; font-family: Arial; direction: ltr\">\n",
              "<text class=\"displacy-token\" fill=\"currentColor\" text-anchor=\"middle\" y=\"222.0\">\n",
              "    <tspan class=\"displacy-word\" fill=\"currentColor\" x=\"50\">You</tspan>\n",
              "    <tspan class=\"displacy-tag\" dy=\"2em\" fill=\"currentColor\" x=\"50\">PRON</tspan>\n",
              "</text>\n",
              "\n",
              "<text class=\"displacy-token\" fill=\"currentColor\" text-anchor=\"middle\" y=\"222.0\">\n",
              "    <tspan class=\"displacy-word\" fill=\"currentColor\" x=\"225\">must</tspan>\n",
              "    <tspan class=\"displacy-tag\" dy=\"2em\" fill=\"currentColor\" x=\"225\">AUX</tspan>\n",
              "</text>\n",
              "\n",
              "<text class=\"displacy-token\" fill=\"currentColor\" text-anchor=\"middle\" y=\"222.0\">\n",
              "    <tspan class=\"displacy-word\" fill=\"currentColor\" x=\"400\">to</tspan>\n",
              "    <tspan class=\"displacy-tag\" dy=\"2em\" fill=\"currentColor\" x=\"400\">PART</tspan>\n",
              "</text>\n",
              "\n",
              "<text class=\"displacy-token\" fill=\"currentColor\" text-anchor=\"middle\" y=\"222.0\">\n",
              "    <tspan class=\"displacy-word\" fill=\"currentColor\" x=\"575\">left</tspan>\n",
              "    <tspan class=\"displacy-tag\" dy=\"2em\" fill=\"currentColor\" x=\"575\">VERB</tspan>\n",
              "</text>\n",
              "\n",
              "<text class=\"displacy-token\" fill=\"currentColor\" text-anchor=\"middle\" y=\"222.0\">\n",
              "    <tspan class=\"displacy-word\" fill=\"currentColor\" x=\"750\">the</tspan>\n",
              "    <tspan class=\"displacy-tag\" dy=\"2em\" fill=\"currentColor\" x=\"750\">DET</tspan>\n",
              "</text>\n",
              "\n",
              "<text class=\"displacy-token\" fill=\"currentColor\" text-anchor=\"middle\" y=\"222.0\">\n",
              "    <tspan class=\"displacy-word\" fill=\"currentColor\" x=\"925\">room</tspan>\n",
              "    <tspan class=\"displacy-tag\" dy=\"2em\" fill=\"currentColor\" x=\"925\">NOUN</tspan>\n",
              "</text>\n",
              "\n",
              "<g class=\"displacy-arrow\">\n",
              "    <path class=\"displacy-arc\" id=\"arrow-8faf0a07e02c4adaa451c9091522171e-0-0\" stroke-width=\"2px\" d=\"M70,177.0 C70,89.5 220.0,89.5 220.0,177.0\" fill=\"none\" stroke=\"currentColor\"/>\n",
              "    <text dy=\"1.25em\" style=\"font-size: 0.8em; letter-spacing: 1px\">\n",
              "        <textPath xlink:href=\"#arrow-8faf0a07e02c4adaa451c9091522171e-0-0\" class=\"displacy-label\" startOffset=\"50%\" side=\"left\" fill=\"currentColor\" text-anchor=\"middle\">nsubj</textPath>\n",
              "    </text>\n",
              "    <path class=\"displacy-arrowhead\" d=\"M70,179.0 L62,167.0 78,167.0\" fill=\"currentColor\"/>\n",
              "</g>\n",
              "\n",
              "<g class=\"displacy-arrow\">\n",
              "    <path class=\"displacy-arc\" id=\"arrow-8faf0a07e02c4adaa451c9091522171e-0-1\" stroke-width=\"2px\" d=\"M420,177.0 C420,89.5 570.0,89.5 570.0,177.0\" fill=\"none\" stroke=\"currentColor\"/>\n",
              "    <text dy=\"1.25em\" style=\"font-size: 0.8em; letter-spacing: 1px\">\n",
              "        <textPath xlink:href=\"#arrow-8faf0a07e02c4adaa451c9091522171e-0-1\" class=\"displacy-label\" startOffset=\"50%\" side=\"left\" fill=\"currentColor\" text-anchor=\"middle\">aux</textPath>\n",
              "    </text>\n",
              "    <path class=\"displacy-arrowhead\" d=\"M420,179.0 L412,167.0 428,167.0\" fill=\"currentColor\"/>\n",
              "</g>\n",
              "\n",
              "<g class=\"displacy-arrow\">\n",
              "    <path class=\"displacy-arc\" id=\"arrow-8faf0a07e02c4adaa451c9091522171e-0-2\" stroke-width=\"2px\" d=\"M245,177.0 C245,2.0 575.0,2.0 575.0,177.0\" fill=\"none\" stroke=\"currentColor\"/>\n",
              "    <text dy=\"1.25em\" style=\"font-size: 0.8em; letter-spacing: 1px\">\n",
              "        <textPath xlink:href=\"#arrow-8faf0a07e02c4adaa451c9091522171e-0-2\" class=\"displacy-label\" startOffset=\"50%\" side=\"left\" fill=\"currentColor\" text-anchor=\"middle\">xcomp</textPath>\n",
              "    </text>\n",
              "    <path class=\"displacy-arrowhead\" d=\"M575.0,179.0 L583.0,167.0 567.0,167.0\" fill=\"currentColor\"/>\n",
              "</g>\n",
              "\n",
              "<g class=\"displacy-arrow\">\n",
              "    <path class=\"displacy-arc\" id=\"arrow-8faf0a07e02c4adaa451c9091522171e-0-3\" stroke-width=\"2px\" d=\"M770,177.0 C770,89.5 920.0,89.5 920.0,177.0\" fill=\"none\" stroke=\"currentColor\"/>\n",
              "    <text dy=\"1.25em\" style=\"font-size: 0.8em; letter-spacing: 1px\">\n",
              "        <textPath xlink:href=\"#arrow-8faf0a07e02c4adaa451c9091522171e-0-3\" class=\"displacy-label\" startOffset=\"50%\" side=\"left\" fill=\"currentColor\" text-anchor=\"middle\">det</textPath>\n",
              "    </text>\n",
              "    <path class=\"displacy-arrowhead\" d=\"M770,179.0 L762,167.0 778,167.0\" fill=\"currentColor\"/>\n",
              "</g>\n",
              "\n",
              "<g class=\"displacy-arrow\">\n",
              "    <path class=\"displacy-arc\" id=\"arrow-8faf0a07e02c4adaa451c9091522171e-0-4\" stroke-width=\"2px\" d=\"M595,177.0 C595,2.0 925.0,2.0 925.0,177.0\" fill=\"none\" stroke=\"currentColor\"/>\n",
              "    <text dy=\"1.25em\" style=\"font-size: 0.8em; letter-spacing: 1px\">\n",
              "        <textPath xlink:href=\"#arrow-8faf0a07e02c4adaa451c9091522171e-0-4\" class=\"displacy-label\" startOffset=\"50%\" side=\"left\" fill=\"currentColor\" text-anchor=\"middle\">dobj</textPath>\n",
              "    </text>\n",
              "    <path class=\"displacy-arrowhead\" d=\"M925.0,179.0 L933.0,167.0 917.0,167.0\" fill=\"currentColor\"/>\n",
              "</g>\n",
              "</svg></span>"
            ]
          },
          "metadata": {}
        }
      ]
    },
    {
      "cell_type": "code",
      "source": [
        "options = {'distance':80,\n",
        "           'compact' : True,\n",
        "           'color': '#FF', \n",
        "           'bg' :  '#00a65a' }\n",
        "displacy.render(doc1, style = 'dep', jupyter = True, options = options)"
      ],
      "metadata": {
        "colab": {
          "base_uri": "https://localhost:8080/",
          "height": 239
        },
        "id": "6e3HYBFt4mxk",
        "outputId": "e5bce46a-0d90-436b-fcec-e15dcf1ed690"
      },
      "execution_count": null,
      "outputs": [
        {
          "output_type": "display_data",
          "data": {
            "text/plain": [
              "<IPython.core.display.HTML object>"
            ],
            "text/html": [
              "<span class=\"tex2jax_ignore\"><svg xmlns=\"http://www.w3.org/2000/svg\" xmlns:xlink=\"http://www.w3.org/1999/xlink\" xml:lang=\"en\" id=\"60e2e85841d44510937c84e0d4040d12-0\" class=\"displacy\" width=\"530\" height=\"217.0\" direction=\"ltr\" style=\"max-width: none; height: 217.0px; color: #FF; background: #00a65a; font-family: Arial; direction: ltr\">\n",
              "<text class=\"displacy-token\" fill=\"currentColor\" text-anchor=\"middle\" y=\"127.0\">\n",
              "    <tspan class=\"displacy-word\" fill=\"currentColor\" x=\"50\">You</tspan>\n",
              "    <tspan class=\"displacy-tag\" dy=\"2em\" fill=\"currentColor\" x=\"50\">PRON</tspan>\n",
              "</text>\n",
              "\n",
              "<text class=\"displacy-token\" fill=\"currentColor\" text-anchor=\"middle\" y=\"127.0\">\n",
              "    <tspan class=\"displacy-word\" fill=\"currentColor\" x=\"130\">must</tspan>\n",
              "    <tspan class=\"displacy-tag\" dy=\"2em\" fill=\"currentColor\" x=\"130\">AUX</tspan>\n",
              "</text>\n",
              "\n",
              "<text class=\"displacy-token\" fill=\"currentColor\" text-anchor=\"middle\" y=\"127.0\">\n",
              "    <tspan class=\"displacy-word\" fill=\"currentColor\" x=\"210\">to</tspan>\n",
              "    <tspan class=\"displacy-tag\" dy=\"2em\" fill=\"currentColor\" x=\"210\">PART</tspan>\n",
              "</text>\n",
              "\n",
              "<text class=\"displacy-token\" fill=\"currentColor\" text-anchor=\"middle\" y=\"127.0\">\n",
              "    <tspan class=\"displacy-word\" fill=\"currentColor\" x=\"290\">left</tspan>\n",
              "    <tspan class=\"displacy-tag\" dy=\"2em\" fill=\"currentColor\" x=\"290\">VERB</tspan>\n",
              "</text>\n",
              "\n",
              "<text class=\"displacy-token\" fill=\"currentColor\" text-anchor=\"middle\" y=\"127.0\">\n",
              "    <tspan class=\"displacy-word\" fill=\"currentColor\" x=\"370\">the</tspan>\n",
              "    <tspan class=\"displacy-tag\" dy=\"2em\" fill=\"currentColor\" x=\"370\">DET</tspan>\n",
              "</text>\n",
              "\n",
              "<text class=\"displacy-token\" fill=\"currentColor\" text-anchor=\"middle\" y=\"127.0\">\n",
              "    <tspan class=\"displacy-word\" fill=\"currentColor\" x=\"450\">room</tspan>\n",
              "    <tspan class=\"displacy-tag\" dy=\"2em\" fill=\"currentColor\" x=\"450\">NOUN</tspan>\n",
              "</text>\n",
              "\n",
              "<g class=\"displacy-arrow\">\n",
              "    <path class=\"displacy-arc\" id=\"arrow-60e2e85841d44510937c84e0d4040d12-0-0\" stroke-width=\"2px\" d=\"M62,82.0 62,68.66666666666667 127.0,68.66666666666667 127.0,82.0\" fill=\"none\" stroke=\"currentColor\"/>\n",
              "    <text dy=\"1.25em\" style=\"font-size: 0.8em; letter-spacing: 1px\">\n",
              "        <textPath xlink:href=\"#arrow-60e2e85841d44510937c84e0d4040d12-0-0\" class=\"displacy-label\" startOffset=\"50%\" side=\"left\" fill=\"currentColor\" text-anchor=\"middle\">nsubj</textPath>\n",
              "    </text>\n",
              "    <path class=\"displacy-arrowhead\" d=\"M62,84.0 L58,76.0 66,76.0\" fill=\"currentColor\"/>\n",
              "</g>\n",
              "\n",
              "<g class=\"displacy-arrow\">\n",
              "    <path class=\"displacy-arc\" id=\"arrow-60e2e85841d44510937c84e0d4040d12-0-1\" stroke-width=\"2px\" d=\"M222,82.0 222,68.66666666666667 287.0,68.66666666666667 287.0,82.0\" fill=\"none\" stroke=\"currentColor\"/>\n",
              "    <text dy=\"1.25em\" style=\"font-size: 0.8em; letter-spacing: 1px\">\n",
              "        <textPath xlink:href=\"#arrow-60e2e85841d44510937c84e0d4040d12-0-1\" class=\"displacy-label\" startOffset=\"50%\" side=\"left\" fill=\"currentColor\" text-anchor=\"middle\">aux</textPath>\n",
              "    </text>\n",
              "    <path class=\"displacy-arrowhead\" d=\"M222,84.0 L218,76.0 226,76.0\" fill=\"currentColor\"/>\n",
              "</g>\n",
              "\n",
              "<g class=\"displacy-arrow\">\n",
              "    <path class=\"displacy-arc\" id=\"arrow-60e2e85841d44510937c84e0d4040d12-0-2\" stroke-width=\"2px\" d=\"M142,82.0 142,55.33333333333333 290.0,55.33333333333333 290.0,82.0\" fill=\"none\" stroke=\"currentColor\"/>\n",
              "    <text dy=\"1.25em\" style=\"font-size: 0.8em; letter-spacing: 1px\">\n",
              "        <textPath xlink:href=\"#arrow-60e2e85841d44510937c84e0d4040d12-0-2\" class=\"displacy-label\" startOffset=\"50%\" side=\"left\" fill=\"currentColor\" text-anchor=\"middle\">xcomp</textPath>\n",
              "    </text>\n",
              "    <path class=\"displacy-arrowhead\" d=\"M290.0,84.0 L294.0,76.0 286.0,76.0\" fill=\"currentColor\"/>\n",
              "</g>\n",
              "\n",
              "<g class=\"displacy-arrow\">\n",
              "    <path class=\"displacy-arc\" id=\"arrow-60e2e85841d44510937c84e0d4040d12-0-3\" stroke-width=\"2px\" d=\"M382,82.0 382,68.66666666666667 447.0,68.66666666666667 447.0,82.0\" fill=\"none\" stroke=\"currentColor\"/>\n",
              "    <text dy=\"1.25em\" style=\"font-size: 0.8em; letter-spacing: 1px\">\n",
              "        <textPath xlink:href=\"#arrow-60e2e85841d44510937c84e0d4040d12-0-3\" class=\"displacy-label\" startOffset=\"50%\" side=\"left\" fill=\"currentColor\" text-anchor=\"middle\">det</textPath>\n",
              "    </text>\n",
              "    <path class=\"displacy-arrowhead\" d=\"M382,84.0 L378,76.0 386,76.0\" fill=\"currentColor\"/>\n",
              "</g>\n",
              "\n",
              "<g class=\"displacy-arrow\">\n",
              "    <path class=\"displacy-arc\" id=\"arrow-60e2e85841d44510937c84e0d4040d12-0-4\" stroke-width=\"2px\" d=\"M302,82.0 302,55.33333333333333 450.0,55.33333333333333 450.0,82.0\" fill=\"none\" stroke=\"currentColor\"/>\n",
              "    <text dy=\"1.25em\" style=\"font-size: 0.8em; letter-spacing: 1px\">\n",
              "        <textPath xlink:href=\"#arrow-60e2e85841d44510937c84e0d4040d12-0-4\" class=\"displacy-label\" startOffset=\"50%\" side=\"left\" fill=\"currentColor\" text-anchor=\"middle\">dobj</textPath>\n",
              "    </text>\n",
              "    <path class=\"displacy-arrowhead\" d=\"M450.0,84.0 L454.0,76.0 446.0,76.0\" fill=\"currentColor\"/>\n",
              "</g>\n",
              "</svg></span>"
            ]
          },
          "metadata": {}
        }
      ]
    },
    {
      "cell_type": "code",
      "source": [
        "x = [3, 2, 0, 5]\n",
        "y = [1, 0, 0, 0]\n",
        "\n",
        "def cosine_similarity(list1, list2):\n",
        "  pass\n",
        "\n",
        "print(cosine_similarity(x, y))"
      ],
      "metadata": {
        "id": "9qRfjVU05kBC",
        "colab": {
          "base_uri": "https://localhost:8080/"
        },
        "outputId": "c75187c2-24c2-4fdd-dabe-6c63696162e2"
      },
      "execution_count": null,
      "outputs": [
        {
          "output_type": "stream",
          "name": "stdout",
          "text": [
            "None\n"
          ]
        }
      ]
    },
    {
      "cell_type": "code",
      "source": [],
      "metadata": {
        "colab": {
          "base_uri": "https://localhost:8080/"
        },
        "id": "Ifs2oR9jlNb7",
        "outputId": "17e78732-7281-41fd-f982-065b4f4f9171"
      },
      "execution_count": null,
      "outputs": [
        {
          "output_type": "stream",
          "name": "stdout",
          "text": [
            "0.48666426339228763\n"
          ]
        }
      ]
    }
  ],
  "metadata": {
    "colab": {
      "provenance": []
    },
    "kernelspec": {
      "display_name": "Python 3",
      "name": "python3"
    },
    "language_info": {
      "name": "python"
    }
  },
  "nbformat": 4,
  "nbformat_minor": 0
}